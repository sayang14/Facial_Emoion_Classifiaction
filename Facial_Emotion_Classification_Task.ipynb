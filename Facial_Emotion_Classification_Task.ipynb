{
  "cells": [
    {
      "cell_type": "markdown",
      "metadata": {
        "id": "view-in-github",
        "colab_type": "text"
      },
      "source": [
        "<a href=\"https://colab.research.google.com/github/sayang14/Facial_Emoion_Classifiaction/blob/main/Facial_Emotion_Classification_Task.ipynb\" target=\"_parent\"><img src=\"https://colab.research.google.com/assets/colab-badge.svg\" alt=\"Open In Colab\"/></a>"
      ]
    },
    {
      "cell_type": "markdown",
      "id": "05e13074",
      "metadata": {
        "id": "05e13074"
      },
      "source": [
        "# Component_1 \n",
        "#Face Recognition: MLP"
      ]
    },
    {
      "cell_type": "markdown",
      "source": [
        "###Unzipping imported data"
      ],
      "metadata": {
        "id": "1ioSIMBftCvr"
      },
      "id": "1ioSIMBftCvr"
    },
    {
      "cell_type": "code",
      "source": [
        "# !unzip Dataset.zip -d Dataset"
      ],
      "metadata": {
        "id": "SpdKyBgga9h4"
      },
      "id": "SpdKyBgga9h4",
      "execution_count": null,
      "outputs": []
    },
    {
      "cell_type": "code",
      "source": [
        "!wget -c https://raw.githubusercontent.com/udacity/deep-learning-v2-pytorch/master/intro-to-pytorch/helper.py"
      ],
      "metadata": {
        "colab": {
          "base_uri": "https://localhost:8080/"
        },
        "id": "ZPTNkk3aBQJV",
        "outputId": "a36ba041-4fac-4ee1-a58c-97a1d9b6308a"
      },
      "id": "ZPTNkk3aBQJV",
      "execution_count": null,
      "outputs": [
        {
          "output_type": "stream",
          "name": "stdout",
          "text": [
            "--2022-01-22 16:50:36--  https://raw.githubusercontent.com/udacity/deep-learning-v2-pytorch/master/intro-to-pytorch/helper.py\n",
            "Resolving raw.githubusercontent.com (raw.githubusercontent.com)... 185.199.109.133, 185.199.108.133, 185.199.111.133, ...\n",
            "Connecting to raw.githubusercontent.com (raw.githubusercontent.com)|185.199.109.133|:443... connected.\n",
            "HTTP request sent, awaiting response... 200 OK\n",
            "Length: 2813 (2.7K) [text/plain]\n",
            "Saving to: ‘helper.py’\n",
            "\n",
            "\rhelper.py             0%[                    ]       0  --.-KB/s               \rhelper.py           100%[===================>]   2.75K  --.-KB/s    in 0s      \n",
            "\n",
            "2022-01-22 16:50:36 (34.3 MB/s) - ‘helper.py’ saved [2813/2813]\n",
            "\n"
          ]
        }
      ]
    },
    {
      "cell_type": "code",
      "execution_count": null,
      "id": "c664b204",
      "metadata": {
        "id": "c664b204"
      },
      "outputs": [],
      "source": [
        "import torch\n",
        "import torch.nn as nn\n",
        "import torch.optim as optim\n",
        "from random import randint\n",
        "import utils\n",
        "import utils1\n",
        "from torchvision import datasets, transforms\n",
        "import matplotlib.pyplot as plt\n",
        "import time\n",
        "import Dataset\n",
        "import helper"
      ]
    },
    {
      "cell_type": "markdown",
      "id": "82adc0e1",
      "metadata": {
        "id": "82adc0e1"
      },
      "source": [
        "### Transforming the input data to suitable format"
      ]
    },
    {
      "cell_type": "code",
      "execution_count": null,
      "id": "b7f19905",
      "metadata": {
        "id": "b7f19905"
      },
      "outputs": [],
      "source": [
        "mean = [0.5077]\n",
        "std = [0.2120]\n",
        "\n",
        "\n",
        "data_dir  = '/content/Dataset/Dataset'\n",
        "\n",
        "#transforming train data\n",
        "train_transform = transforms.Compose([transforms.Resize((48,48)),\n",
        "    transforms.RandomHorizontalFlip(),\n",
        "    transforms.Grayscale(num_output_channels=1),\n",
        "    transforms.ToTensor(),\n",
        "    transforms.Normalize(torch.Tensor(mean), torch.Tensor(std))])\n",
        "\n",
        "train_dataset = datasets.ImageFolder(data_dir + '/train', transform=train_transform)\n",
        "train_data =  torch.utils.data.DataLoader(train_dataset, batch_size = 100, shuffle= True)# divides the data into (total_images/bs) batches after shuffling\n",
        "\n",
        "#transforming test data\n",
        "test_transform = transforms.Compose([transforms.Resize((48,48)),\n",
        "    transforms.RandomHorizontalFlip(),\n",
        "    transforms.Grayscale(num_output_channels=1),\n",
        "    transforms.ToTensor(),\n",
        "    transforms.Normalize(torch.Tensor(mean), torch.Tensor(std))])\n",
        "\n",
        "test_dataset = datasets.ImageFolder(data_dir + '/test', transform=test_transform)\n",
        "test_data =  torch.utils.data.DataLoader(test_dataset, batch_size = 100, shuffle= True)\n"
      ]
    },
    {
      "cell_type": "code",
      "execution_count": null,
      "id": "afae2b5c",
      "metadata": {
        "scrolled": false,
        "id": "afae2b5c",
        "outputId": "19adba2f-6e83-4787-d2f2-2643f70a46b2",
        "colab": {
          "base_uri": "https://localhost:8080/"
        }
      },
      "outputs": [
        {
          "output_type": "execute_result",
          "data": {
            "text/plain": [
              "7178"
            ]
          },
          "metadata": {},
          "execution_count": 5
        }
      ],
      "source": [
        "len(test_dataset) "
      ]
    },
    {
      "cell_type": "code",
      "execution_count": null,
      "id": "c4589b56",
      "metadata": {
        "scrolled": true,
        "id": "c4589b56",
        "outputId": "0d196818-39bb-470a-b8a3-e43097a4c4f8",
        "colab": {
          "base_uri": "https://localhost:8080/"
        }
      },
      "outputs": [
        {
          "output_type": "execute_result",
          "data": {
            "text/plain": [
              "28709"
            ]
          },
          "metadata": {},
          "execution_count": 6
        }
      ],
      "source": [
        "len(train_dataset)"
      ]
    },
    {
      "cell_type": "markdown",
      "source": [
        "**Code to find the mean and std of the pictures**"
      ],
      "metadata": {
        "id": "hJbeRP6GapX2"
      },
      "id": "hJbeRP6GapX2"
    },
    {
      "cell_type": "code",
      "execution_count": null,
      "id": "9d80e83c",
      "metadata": {
        "id": "9d80e83c"
      },
      "outputs": [],
      "source": [
        "\"\"\"def get_mean_and_std(loader):\n",
        "    mean = 0.\n",
        "    std = 0.\n",
        "    total_images_count = 0\n",
        "    for images,_ in loader:\n",
        "        image_count_in_a_batch = images.size(0)\n",
        "        images = images.view(image_count_in_a_batch, images.size(1), -1)\n",
        "        mean += images.mean(2).sum(0)\n",
        "        std += images.std(2).sum(0)\n",
        "        total_images_count += image_count_in_a_batch\n",
        "    \n",
        "    mean /= total_images_count\n",
        "    std /= total_images_count\n",
        "    \n",
        "    return mean,std\"\"\""
      ]
    },
    {
      "cell_type": "code",
      "execution_count": null,
      "id": "82bf6d48",
      "metadata": {
        "id": "82bf6d48",
        "outputId": "a74df3a8-87cb-4d61-d617-15603d200a40"
      },
      "outputs": [
        {
          "data": {
            "text/plain": [
              "(tensor([0.5077]), tensor([0.2120]))"
            ]
          },
          "execution_count": 11,
          "metadata": {},
          "output_type": "execute_result"
        }
      ],
      "source": [
        "#get_mean_and_std(train_loader)"
      ]
    },
    {
      "cell_type": "markdown",
      "id": "f1aea4f2",
      "metadata": {
        "id": "f1aea4f2"
      },
      "source": [
        "### Contructing a Three-layer neural net "
      ]
    },
    {
      "cell_type": "code",
      "execution_count": null,
      "id": "cd2855e0",
      "metadata": {
        "id": "cd2855e0"
      },
      "outputs": [],
      "source": [
        "class three_layer_net(nn.Module):\n",
        "    def __init__(self,input_size,hidden_size1,hidden_size2,output_size):\n",
        "        super(three_layer_net,self).__init__()\n",
        "        \n",
        "        self.layer1 = nn.Linear( input_size , hidden_size1, bias=True)\n",
        "        self.layer2 = nn.Linear( hidden_size1 , hidden_size2, bias=True)\n",
        "        self.layer3 = nn.Linear( hidden_size2, output_size, bias = True)\n",
        "        \n",
        "    def forward(self, x):\n",
        "        y       = self.layer1(x)\n",
        "        y_hat   = torch.relu(y)\n",
        "        z       = self.layer2(y_hat)\n",
        "        z_hat   = torch.relu(z) \n",
        "        scores  = self.layer3(z_hat)\n",
        "        \n",
        "        return scores"
      ]
    },
    {
      "cell_type": "markdown",
      "id": "0d61684b",
      "metadata": {
        "id": "0d61684b"
      },
      "source": [
        "### Building the neural net using the template contructed above"
      ]
    },
    {
      "cell_type": "code",
      "execution_count": null,
      "id": "27e583f4",
      "metadata": {
        "id": "27e583f4",
        "outputId": "87f6f687-073f-4243-b026-58c8e3b06118",
        "colab": {
          "base_uri": "https://localhost:8080/"
        }
      },
      "outputs": [
        {
          "output_type": "stream",
          "name": "stdout",
          "text": [
            "three_layer_net(\n",
            "  (layer1): Linear(in_features=2304, out_features=100, bias=True)\n",
            "  (layer2): Linear(in_features=100, out_features=100, bias=True)\n",
            "  (layer3): Linear(in_features=100, out_features=7, bias=True)\n",
            ")\n"
          ]
        }
      ],
      "source": [
        "neural_net = three_layer_net(2304,100,100,7)\n",
        "neural_net.to(\"cuda\")   #transferring the neural net onto the GPU\n",
        "print(neural_net)"
      ]
    },
    {
      "cell_type": "code",
      "source": [
        "for n, p in neural_net.named_parameters():    #checking whether the neural net is transferred onto the gpu\n",
        "    print(p.device, '', n)"
      ],
      "metadata": {
        "colab": {
          "base_uri": "https://localhost:8080/"
        },
        "id": "_ZrK3b2arllK",
        "outputId": "94e4c167-8050-424c-c68f-3afe97b09396"
      },
      "id": "_ZrK3b2arllK",
      "execution_count": null,
      "outputs": [
        {
          "output_type": "stream",
          "name": "stdout",
          "text": [
            "cuda:0  layer1.weight\n",
            "cuda:0  layer1.bias\n",
            "cuda:0  layer2.weight\n",
            "cuda:0  layer2.bias\n",
            "cuda:0  layer3.weight\n",
            "cuda:0  layer3.bias\n"
          ]
        }
      ]
    },
    {
      "cell_type": "markdown",
      "id": "119e0403",
      "metadata": {
        "id": "119e0403"
      },
      "source": [
        "### Selecting loss,optimizer batch size, learning rate "
      ]
    },
    {
      "cell_type": "code",
      "execution_count": null,
      "id": "5ce6c84d",
      "metadata": {
        "id": "5ce6c84d"
      },
      "outputs": [],
      "source": [
        "#Selecting the loss function\n",
        "criterion = nn.CrossEntropyLoss()\n",
        "#Selecting the optimizer\n",
        "optimizer = torch.optim.SGD( neural_net.parameters() , lr=0.03 ) \n",
        "#Defining batch size\n",
        "bs= 100"
      ]
    },
    {
      "cell_type": "markdown",
      "id": "ff7e5bac",
      "metadata": {
        "id": "ff7e5bac"
      },
      "source": [
        "### Evaluates on test data and gives error "
      ]
    },
    {
      "cell_type": "code",
      "execution_count": null,
      "id": "75675a65",
      "metadata": {
        "id": "75675a65"
      },
      "outputs": [],
      "source": [
        "def eval_on_test_set():\n",
        "\n",
        "    running_error=0\n",
        "    num_batches=0\n",
        "\n",
        "    for i in range(0,7178,bs):\n",
        "\n",
        "        test_data =  torch.utils.data.DataLoader(test_dataset, batch_size = bs, shuffle= True)\n",
        "        test_images,test_labels = next(iter(train_data))\n",
        "        test_images = test_images.view(bs,48,48)\n",
        "\n",
        "        inputs = test_images.view(bs,2304)\n",
        "\n",
        "        scores = neural_net( inputs.to(\"cuda\") ) \n",
        "\n",
        "        error = utils.get_error(scores ,test_labels)\n",
        "\n",
        "        running_error += error.item()\n",
        "\n",
        "        num_batches+=1\n",
        "\n",
        "\n",
        "    total_error = running_error/num_batches\n",
        "    print( 'test error  = ', total_error*100 ,'percent')"
      ]
    },
    {
      "cell_type": "markdown",
      "id": "407cb5a7",
      "metadata": {
        "id": "407cb5a7"
      },
      "source": [
        "### Training the neural network"
      ]
    },
    {
      "cell_type": "code",
      "execution_count": null,
      "id": "a46a5cf5",
      "metadata": {
        "id": "a46a5cf5",
        "outputId": "692ff6b1-abbd-440b-907c-2ec50c3f9766",
        "colab": {
          "base_uri": "https://localhost:8080/"
        }
      },
      "outputs": [
        {
          "output_type": "stream",
          "name": "stdout",
          "text": [
            " \n",
            "epoch= 0 \t time= 17.021608591079712 \t error= 67.61111172123087 percent\n",
            " \n",
            "epoch= 10 \t time= 182.33561038970947 \t error= 53.66666751603285 percent\n",
            " \n",
            "epoch= 20 \t time= 347.36742782592773 \t error= 47.5972230028775 percent\n",
            " \n",
            "epoch= 30 \t time= 513.3918793201447 \t error= 43.079862371087074 percent\n",
            " \n",
            "epoch= 40 \t time= 679.1966776847839 \t error= 38.95486241413487 percent\n",
            " \n",
            "epoch= 50 \t time= 844.6388919353485 \t error= 35.03819598505895 percent\n",
            " \n",
            "epoch= 60 \t time= 1009.836630821228 \t error= 31.41666826688581 percent\n",
            " \n",
            "epoch= 70 \t time= 1174.8324837684631 \t error= 29.28472397228082 percent\n",
            " \n",
            "epoch= 80 \t time= 1339.9887599945068 \t error= 26.378474032713306 percent\n",
            " \n",
            "epoch= 90 \t time= 1504.6522347927094 \t error= 24.395835171971054 percent\n",
            " \n",
            "epoch= 100 \t time= 1668.7860000133514 \t error= 22.013890950216187 percent\n",
            " \n",
            "epoch= 110 \t time= 1833.3005211353302 \t error= 19.892363250255585 percent\n",
            " \n",
            "epoch= 120 \t time= 1997.8555572032928 \t error= 18.038196654783356 percent\n",
            " \n",
            "epoch= 130 \t time= 2163.211751937866 \t error= 17.187502028213608 percent\n",
            " \n",
            "epoch= 140 \t time= 2327.9604370594025 \t error= 16.538196533090538 percent\n",
            " \n",
            "epoch= 150 \t time= 2493.103755235672 \t error= 14.565974122120274 percent\n",
            " \n",
            "epoch= 160 \t time= 2657.483477115631 \t error= 13.111113156709406 percent\n",
            " \n",
            "epoch= 170 \t time= 2822.0924882888794 \t error= 12.46180749601788 percent\n",
            " \n",
            "epoch= 180 \t time= 2986.485190153122 \t error= 11.802085240681965 percent\n",
            " \n",
            "epoch= 190 \t time= 3150.9332106113434 \t error= 10.791668626997206 percent\n",
            " \n",
            "epoch= 200 \t time= 3314.937009334564 \t error= 4.579863241977162 percent\n",
            " \n",
            "epoch= 210 \t time= 3478.219296693802 \t error= 2.2013919634951487 percent\n",
            " \n",
            "epoch= 220 \t time= 3642.443558692932 \t error= 1.7777810287144449 percent\n",
            " \n",
            "epoch= 230 \t time= 3806.9898607730865 \t error= 1.381947762436337 percent\n",
            " \n",
            "epoch= 240 \t time= 3971.9321281909943 \t error= 1.2986141981350052 percent\n",
            " \n",
            "epoch= 250 \t time= 4136.75358915329 \t error= 1.1388919833633635 percent\n",
            " \n",
            "epoch= 260 \t time= 4301.760255098343 \t error= 1.0659750344024765 percent\n",
            " \n",
            "epoch= 270 \t time= 4465.425120830536 \t error= 0.8923636749386787 percent\n",
            " \n",
            "epoch= 280 \t time= 4629.938741207123 \t error= 0.8159749209880829 percent\n",
            " \n",
            "epoch= 290 \t time= 4794.022003173828 \t error= 0.750002409848902 percent\n"
          ]
        }
      ],
      "source": [
        "start = time.time()\n",
        "\n",
        "for epoch in range(300):\n",
        "    \n",
        "    if epoch == 200:\n",
        "      optimizer = torch.optim.SGD( neural_net.parameters() , lr=0.006 )   # it was observed that the error starts increasing with a lr of 0.03 after 200 epochs\n",
        "\n",
        "\n",
        "    running_error=0\n",
        "    num_batches=0\n",
        "    \n",
        "    \n",
        "    for count in range(0,28709,bs):\n",
        "        \n",
        "        # forward and backward pass\n",
        "    \n",
        "        optimizer.zero_grad()\n",
        "        \n",
        "        batch_images,batch_labels = next(iter(train_data))     #everytime next() function is called it moves to the next batch and therefore iterates throughout the train_data set\n",
        "        batch_images = batch_images.view(bs,48,48)\n",
        "\n",
        "        inputs = batch_images.view(bs,2304)\n",
        "\n",
        "        inputs.requires_grad_()\n",
        "\n",
        "        scores= neural_net(inputs.to(\"cuda\")) \n",
        "\n",
        "        loss =  criterion(scores ,batch_labels.to(\"cuda\")) \n",
        "        \n",
        "        loss.backward()\n",
        "\n",
        "        optimizer.step()\n",
        "        \n",
        "        \n",
        "        # compute some stats\n",
        "     \n",
        "        error = utils.get_error( scores.detach() , batch_labels.to(\"cuda\"))\n",
        "        running_error += error.item()\n",
        "        \n",
        "        num_batches+=1\n",
        "    \n",
        "    \n",
        "    # once the epoch is finished we divide the \"running quantities\"\n",
        "    # by the number of batches\n",
        "    \n",
        "    total_error = running_error/num_batches\n",
        "    elapsed_time = time.time() - start\n",
        "    \n",
        "    # every 10 epoch we display the stats \n",
        "    # and compute the error rate on the test set  \n",
        "    \n",
        "    if epoch % 10 == 0 : \n",
        "    \n",
        "        print(' ')\n",
        "        \n",
        "        print('epoch=',epoch, '\\t time=', elapsed_time,'\\t error=', total_error*100 ,'percent') \n",
        "               "
      ]
    },
    {
      "cell_type": "code",
      "source": [
        "eval_on_test_set()  #checks error on test set, if error on test is more than train then check for over-fitting"
      ],
      "metadata": {
        "id": "84-xfYBetakp"
      },
      "id": "84-xfYBetakp",
      "execution_count": null,
      "outputs": []
    },
    {
      "cell_type": "markdown",
      "source": [
        "###Displaying the test image and the respective classification by the neural net"
      ],
      "metadata": {
        "id": "2V-kPwLwEsIi"
      },
      "id": "2V-kPwLwEsIi"
    },
    {
      "cell_type": "code",
      "execution_count": null,
      "id": "4b298c9f",
      "metadata": {
        "id": "4b298c9f",
        "outputId": "3b54e81d-fcac-406a-eb43-3ba2a0d86a64",
        "colab": {
          "base_uri": "https://localhost:8080/",
          "height": 515
        }
      },
      "outputs": [
        {
          "output_type": "display_data",
          "data": {
            "image/png": "[encoded data removed]",
            "text/plain": [
              "<Figure size 432x288 with 1 Axes>"
            ]
          },
          "metadata": {
            "needs_background": "light"
          }
        },
        {
          "output_type": "display_data",
          "data": {
            "image/png": "[encoded data removed]",
            "text/plain": [
              "<Figure size 432x288 with 1 Axes>"
            ]
          },
          "metadata": {
            "needs_background": "light"
          }
        }
      ],
      "source": [
        "import numpy as np\n",
        "import utils1\n",
        "neural_net.to('cpu')\n",
        "\n",
        "indx = randint(0,7178-1)\n",
        "images, labels = next(iter(test_data))\n",
        "im = images[0]\n",
        "\n",
        "arr = images[0].numpy()\n",
        "arr_ = np.squeeze(arr) \n",
        "plt.imshow(arr_)\n",
        "plt.show()\n",
        "with torch.no_grad():\n",
        "  scores = neural_net(im.view(1,2304))\n",
        "  prob=torch.softmax(scores, dim = 1)\n",
        "\n",
        "prob = prob.view(7).numpy().tolist()     #converting the probabilities array into \n",
        "\n",
        "classes = [\"angry\",\"disgust\",\"fear\", \"happy\", \"neutral\", \"sad\", \"surprise\"]\n",
        "\n",
        "\n",
        "plt.barh(classes, prob)\n",
        " \n",
        "# setting label of y-axis\n",
        "plt.ylabel(\"classes\")\n",
        " \n",
        "# setting label of x-axis\n",
        "plt.show()\n"
      ]
    },
    {
      "cell_type": "markdown",
      "source": [
        ""
      ],
      "metadata": {
        "id": "I76GPa5tyq_X"
      },
      "id": "I76GPa5tyq_X"
    },
    {
      "cell_type": "markdown",
      "source": [
        "**CNN Part**"
      ],
      "metadata": {
        "id": "xZOGC_STyGiX"
      },
      "id": "xZOGC_STyGiX"
    },
    {
      "cell_type": "code",
      "source": [
        "import matplotlib.pyplot as plt\n",
        "import torchvision\n",
        "import matplotlib.pyplot as plt\n",
        "import numpy as np\n",
        "from torchvision import datasets, transforms\n",
        "from torch.utils.data import DataLoader\n",
        "import torch.nn as nn\n",
        "import torch.nn.functional as F\n",
        "import torch.optim as optim\n",
        "import torch\n",
        "import utils\n",
        "\n",
        "import pandas as pd\n",
        "from torch.autograd import Variable\n",
        "from torch.nn import Linear, ReLU, CrossEntropyLoss, Sequential, Conv2d, MaxPool2d, Module, Softmax, BatchNorm2d, Dropout\n",
        "from torch.optim import Adam, SGD"
      ],
      "metadata": {
        "id": "mUmE25UfOL8i"
      },
      "execution_count": null,
      "outputs": [],
      "id": "mUmE25UfOL8i"
    },
    {
      "cell_type": "markdown",
      "source": [
        "**Calculating Mean and Standard Deviation**"
      ],
      "metadata": {
        "id": "-pTWQcIYcG_-"
      },
      "id": "-pTWQcIYcG_-"
    },
    {
      "cell_type": "code",
      "source": [
        "# def get_mean_and_std(loader):\n",
        "#   mean=0\n",
        "#   std=0\n",
        "#   tot_images_count=0\n",
        "#   for images, _ in loader:\n",
        "#     image_count_in_a_batch = images.size(0)\n",
        "#     # print(images.shape)\n",
        "#     images = images.view(image_count_in_a_batch, images.size(1), -1)\n",
        "#     mean += images .mean(2).sum(0)\n",
        "#     std += images.std(2).sum(0)\n",
        "#     tot_images_count += image_count_in_a_batch\n",
        "#   mean /= tot_images_count\n",
        "#   std /= tot_images_count\n",
        "\n",
        "#   return mean, std\n",
        "  \n",
        "# get_mean_and_std(train)"
      ],
      "metadata": {
        "id": "Muvb5RZ-cNkR"
      },
      "execution_count": null,
      "outputs": [],
      "id": "Muvb5RZ-cNkR"
    },
    {
      "cell_type": "code",
      "source": [
        "mean =[0.5334, 0.5334, 0.5334]\n",
        "std = [0.1774, 0.1774, 0.1774]\n",
        "\n",
        "data_dir = '/content/Dataset/Dataset'\n",
        "transform = transforms.Compose([\n",
        "        #transforms.RandomRotation(20),\n",
        "        transforms.RandomResizedCrop(128),\n",
        "        #transforms.RandomHorizontalFlip(),\n",
        "        transforms.ToTensor(),\n",
        "        transforms.Normalize(torch.Tensor(mean),torch.Tensor(std))])\n",
        "batch_size = 100\n",
        "train_set = datasets.ImageFolder(data_dir + '/train',transform = transform)\n",
        "test_set =  datasets.ImageFolder(data_dir + '/test',transform = transform)\n",
        "\n",
        "train = torch.utils.data.DataLoader(train_set,batch_size =batch_size,shuffle=True,num_workers=2)\n",
        "test = torch.utils.data.DataLoader(test_set,batch_size =batch_size,shuffle=True,num_workers=2)\n",
        "\n",
        "classes = ('angry', 'disgust', 'fear', 'happy','neutral', 'sad', 'surprise')\n",
        "\n",
        "print(len(train))\n",
        "print(len(test))\n",
        "print(len(train_set))\n",
        "print(len(test_set))"
      ],
      "metadata": {
        "id": "IN4QEdjCOTUn",
        "colab": {
          "base_uri": "https://localhost:8080/"
        },
        "outputId": "0ee7fe73-3f60-441b-ef80-862d0730d360"
      },
      "execution_count": null,
      "outputs": [
        {
          "output_type": "stream",
          "name": "stdout",
          "text": [
            "288\n",
            "72\n",
            "28709\n",
            "7178\n"
          ]
        }
      ],
      "id": "IN4QEdjCOTUn"
    },
    {
      "cell_type": "markdown",
      "source": [
        "**Checking If its loaded properly**"
      ],
      "metadata": {
        "id": "aNHZDLcMT_eR"
      },
      "id": "aNHZDLcMT_eR"
    },
    {
      "cell_type": "code",
      "source": [
        "def imshow(img):\n",
        "    img = img / 2 + 0.5     # unnormalize\n",
        "    npimg = img.numpy()\n",
        "    plt.imshow(np.transpose(npimg, (1, 2, 0)))\n",
        "    plt.show()\n",
        "\n",
        "\n",
        "# get some random training images\n",
        "dataiter = iter(train)\n",
        "images, labels = dataiter.next()\n",
        "\n",
        "# show images\n",
        "imshow(torchvision.utils.make_grid(images))\n",
        "# print labels\n",
        "print(' '.join(f'{classes[labels[j]]:5s}' for j in range(batch_size)))"
      ],
      "metadata": {
        "colab": {
          "base_uri": "https://localhost:8080/",
          "height": 324
        },
        "id": "795-KByFOYy2",
        "outputId": "7c72d8f5-fb5c-46e1-8b12-2d8c93b6b014"
      },
      "execution_count": null,
      "outputs": [
        {
          "output_type": "stream",
          "name": "stderr",
          "text": [
            "Clipping input data to the valid range for imshow with RGB data ([0..1] for floats or [0..255] for integers).\n"
          ]
        },
        {
          "output_type": "display_data",
          "data": {
            "image/png": "[encoded data removed]",
            "text/plain": [
              "<Figure size 432x288 with 1 Axes>"
            ]
          },
          "metadata": {
            "needs_background": "light"
          }
        },
        {
          "output_type": "stream",
          "name": "stdout",
          "text": [
            "neutral neutral happy happy happy fear  surprise disgust fear  angry fear  fear  neutral surprise fear  neutral surprise angry neutral fear  happy angry happy fear  sad   surprise happy fear  neutral neutral surprise sad   fear  sad   neutral sad   surprise happy sad   angry neutral angry fear  happy surprise surprise sad   happy fear  surprise angry angry neutral disgust angry neutral sad   fear  happy angry fear  neutral sad   sad   happy happy neutral happy surprise happy sad   happy happy angry sad   sad   fear  sad   sad   neutral angry neutral happy surprise neutral sad   happy angry surprise sad   neutral surprise fear  happy sad   happy surprise sad   angry happy\n"
          ]
        }
      ],
      "id": "795-KByFOYy2"
    },
    {
      "cell_type": "markdown",
      "source": [
        "**Preparing The CNN Training Net**"
      ],
      "metadata": {
        "id": "6DQ3-knOUIwl"
      },
      "id": "6DQ3-knOUIwl"
    },
    {
      "cell_type": "code",
      "source": [
        "class LeNet_convnet(nn.Module):\n",
        "\n",
        "    def __init__(self):\n",
        "\n",
        "        super(LeNet5_convnet, self).__init__() \n",
        "        self.conv1 = nn.Conv2d(3,  50,  kernel_size=3,  padding=1 )\n",
        "        BatchNorm2d(6)\n",
        "        self.pool1  = nn.MaxPool2d(2,2)\n",
        "        self.conv2 = nn.Conv2d(50,  100,  kernel_size=3,  padding=1 )\n",
        "        BatchNorm2d(100)\n",
        "        self.pool2 = nn.MaxPool2d(2,2)\n",
        "        self.conv3 = nn.Conv2d(100,  200,  kernel_size=3,  padding=1 )\n",
        "        BatchNorm2d(200)\n",
        "        self.pool3 = nn.MaxPool2d(2,2)\n",
        "\n",
        "        # linear layers\n",
        "        self.linear1 = nn.Linear(51200, 500)\n",
        "        self.linear2 = nn.Linear(500,200)\n",
        "        self.linear3 = nn.Linear(200,50)\n",
        "        self.linear4 = nn.Linear(50,7)\n",
        "        self.dropout = nn.Dropout(0.25)\n",
        "\n",
        "\n",
        "    def forward(self, x):\n",
        "\n",
        "        x = self.conv1(x)\n",
        "        x = torch.relu(x)\n",
        "        x = self.pool1(x)\n",
        "        x = self.conv2(x)\n",
        "        x = torch.relu(x)\n",
        "        x = self.pool2(x)\n",
        "        x = self.conv3(x)\n",
        "        x = torch.relu(x)\n",
        "        x = self.pool3(x)\n",
        "        x = x.view(-1, 51200)\n",
        "        # x = torch.flatten(x, 1)\n",
        "        x = self.linear1(x)\n",
        "        x = torch.relu(x)\n",
        "        x = self.linear2(x)\n",
        "        x = torch.relu(x)\n",
        "        x = self.linear3(x)\n",
        "        x = torch.relu(x)\n",
        "        x = self.dropout(x)\n",
        "        x = self.linear4(x)\n",
        "    \n",
        "        return x"
      ],
      "metadata": {
        "id": "EB329s4wOiU8"
      },
      "execution_count": null,
      "outputs": [],
      "id": "EB329s4wOiU8"
    },
    {
      "cell_type": "code",
      "source": [
        "net=LeNet5_convnet()\n",
        "# net = Net()\n",
        "print(net)\n",
        "utils.display_num_param(net)"
      ],
      "metadata": {
        "colab": {
          "base_uri": "https://localhost:8080/"
        },
        "id": "oG7gdohaROF5",
        "outputId": "49a51ebd-6dd3-4ab9-8e79-cc6c0f8b5065"
      },
      "execution_count": null,
      "outputs": [
        {
          "output_type": "stream",
          "name": "stdout",
          "text": [
            "LeNet5_convnet(\n",
            "  (conv1): Conv2d(3, 50, kernel_size=(3, 3), stride=(1, 1), padding=(1, 1))\n",
            "  (pool1): MaxPool2d(kernel_size=2, stride=2, padding=0, dilation=1, ceil_mode=False)\n",
            "  (conv2): Conv2d(50, 100, kernel_size=(3, 3), stride=(1, 1), padding=(1, 1))\n",
            "  (pool2): MaxPool2d(kernel_size=2, stride=2, padding=0, dilation=1, ceil_mode=False)\n",
            "  (conv3): Conv2d(100, 200, kernel_size=(3, 3), stride=(1, 1), padding=(1, 1))\n",
            "  (pool3): MaxPool2d(kernel_size=2, stride=2, padding=0, dilation=1, ceil_mode=False)\n",
            "  (linear1): Linear(in_features=51200, out_features=500, bias=True)\n",
            "  (linear2): Linear(in_features=500, out_features=200, bias=True)\n",
            "  (linear3): Linear(in_features=200, out_features=50, bias=True)\n",
            "  (linear4): Linear(in_features=50, out_features=7, bias=True)\n",
            "  (dropout): Dropout(p=0.25, inplace=False)\n",
            ")\n",
            "There are 25937807 (25.94 million) parameters in this neural network\n"
          ]
        }
      ],
      "id": "oG7gdohaROF5"
    },
    {
      "cell_type": "markdown",
      "source": [
        "**Checking availability of GPU** "
      ],
      "metadata": {
        "id": "NcqSiwGWUR6m"
      },
      "id": "NcqSiwGWUR6m"
    },
    {
      "cell_type": "code",
      "source": [
        "device = torch.device('cuda:0' if torch.cuda.is_available() else 'cpu')\n",
        "\n",
        "# Assuming that we are on a CUDA machine, this should print a CUDA device:\n",
        "\n",
        "print(device)"
      ],
      "metadata": {
        "colab": {
          "base_uri": "https://localhost:8080/"
        },
        "id": "kmXdGhYjRYNz",
        "outputId": "bb366eaa-dfc9-4e12-e6a2-edaf21426da6"
      },
      "execution_count": null,
      "outputs": [
        {
          "output_type": "stream",
          "name": "stdout",
          "text": [
            "cuda:0\n"
          ]
        }
      ],
      "id": "kmXdGhYjRYNz"
    },
    {
      "cell_type": "markdown",
      "source": [
        "**Send the weights of the networks to the GPU as well as choosing the criterion and learning rate** "
      ],
      "metadata": {
        "id": "W32KnNKtUgbO"
      },
      "id": "W32KnNKtUgbO"
    },
    {
      "cell_type": "code",
      "source": [
        "import torch.optim as optim\n",
        "\n",
        "criterion = nn.CrossEntropyLoss()\n",
        "optimizer = optim.SGD(net.parameters(), lr=0.01,momentum = 0.9)\n",
        "\n",
        "if torch.cuda.is_available(): # Checking if we can use GPU\n",
        "    net = net.cuda()\n",
        "    criterion = criterion.cuda()\n",
        "net.to(device)\n",
        "# print(net)"
      ],
      "metadata": {
        "colab": {
          "base_uri": "https://localhost:8080/"
        },
        "id": "HYJxCpfBV56C",
        "outputId": "35d82d34-43f7-459b-a031-bfe42b67d204"
      },
      "execution_count": null,
      "outputs": [
        {
          "output_type": "execute_result",
          "data": {
            "text/plain": [
              "LeNet5_convnet(\n",
              "  (conv1): Conv2d(3, 50, kernel_size=(3, 3), stride=(1, 1), padding=(1, 1))\n",
              "  (pool1): MaxPool2d(kernel_size=2, stride=2, padding=0, dilation=1, ceil_mode=False)\n",
              "  (conv2): Conv2d(50, 100, kernel_size=(3, 3), stride=(1, 1), padding=(1, 1))\n",
              "  (pool2): MaxPool2d(kernel_size=2, stride=2, padding=0, dilation=1, ceil_mode=False)\n",
              "  (conv3): Conv2d(100, 200, kernel_size=(3, 3), stride=(1, 1), padding=(1, 1))\n",
              "  (pool3): MaxPool2d(kernel_size=2, stride=2, padding=0, dilation=1, ceil_mode=False)\n",
              "  (linear1): Linear(in_features=51200, out_features=500, bias=True)\n",
              "  (linear2): Linear(in_features=500, out_features=200, bias=True)\n",
              "  (linear3): Linear(in_features=200, out_features=50, bias=True)\n",
              "  (linear4): Linear(in_features=50, out_features=7, bias=True)\n",
              "  (dropout): Dropout(p=0.25, inplace=False)\n",
              ")"
            ]
          },
          "metadata": {},
          "execution_count": 136
        }
      ],
      "id": "HYJxCpfBV56C"
    },
    {
      "cell_type": "markdown",
      "source": [
        "**Training the network**"
      ],
      "metadata": {
        "id": "B7JQRwePUyBa"
      },
      "id": "B7JQRwePUyBa"
    },
    {
      "cell_type": "code",
      "source": [
        "def train_net(n_epoch): # Training our network\n",
        "    losses = []\n",
        "    for epoch in range(n_epoch):  # loop over the dataset multiple times\n",
        "        running_loss = 0.0\n",
        "        for i, data in enumerate(train, 0):\n",
        "            # get the inputs; data is a list of [inputs, labels]\n",
        "            # inputs, labels = data\n",
        "            inputs, labels = data[0].to(device), data[1].to(device)\n",
        "            # zero the parameter gradients\n",
        "            optimizer.zero_grad()\n",
        "\n",
        "            # forward + backward + optimize\n",
        "            outputs = net(inputs)\n",
        "            loss = criterion(outputs, labels)\n",
        "            loss.backward()\n",
        "            optimizer.step()\n",
        "\n",
        "            \n",
        "            # print statistics\n",
        "            losses.append(loss)\n",
        "            running_loss += loss.item()\n",
        "            if i % 100 == 99:  # print every 2000 mini-batches\n",
        "                print('[%d, %5d] loss: %.10f' %\n",
        "                      (epoch + 1, i + 1, running_loss / 2000))\n",
        "                running_loss = 0.0\n",
        "    plt.plot(losses, label='Training loss')\n",
        "    plt.show()\n",
        "    print('Finished Training')\n",
        "train_net(50)"
      ],
      "metadata": {
        "id": "XIoVwV6bV7-y"
      },
      "execution_count": null,
      "outputs": [],
      "id": "XIoVwV6bV7-y"
    },
    {
      "cell_type": "markdown",
      "source": [
        "**Saving The Trained Model**"
      ],
      "metadata": {
        "id": "FaMAQrp1X1tR"
      },
      "id": "FaMAQrp1X1tR"
    },
    {
      "cell_type": "code",
      "source": [
        "PATH = './test_data_2.pth'\n",
        "torch.save(net.state_dict(), PATH)\n",
        "\n",
        "# Loading the trained network\n",
        "# net.load_state_dict(torch.load(PATH))"
      ],
      "metadata": {
        "id": "rd8GTkh-iKEZ"
      },
      "execution_count": null,
      "outputs": [],
      "id": "rd8GTkh-iKEZ"
    },
    {
      "cell_type": "markdown",
      "source": [
        "**Testing the Trained Model**"
      ],
      "metadata": {
        "id": "d8QAIHMYYE_h"
      },
      "id": "d8QAIHMYYE_h"
    },
    {
      "cell_type": "code",
      "source": [
        "dataiter = iter(test)\n",
        "images, labels = dataiter.next()\n",
        "\n",
        "# print images\n",
        "imshow(torchvision.utils.make_grid(images))\n",
        "print('GroundTruth: ', ' '.join(f'{classes[labels[j]]:5s}' for j in range(100)))"
      ],
      "metadata": {
        "colab": {
          "base_uri": "https://localhost:8080/",
          "height": 324
        },
        "id": "jWAPVO_-iRnz",
        "outputId": "d413b8e4-d581-407f-ce85-075bde3990ca"
      },
      "execution_count": null,
      "outputs": [
        {
          "output_type": "stream",
          "name": "stderr",
          "text": [
            "Clipping input data to the valid range for imshow with RGB data ([0..1] for floats or [0..255] for integers).\n"
          ]
        },
        {
          "output_type": "display_data",
          "data": {
            "image/png": "[encoded data removed]",
            "text/plain": [
              "<Figure size 432x288 with 1 Axes>"
            ]
          },
          "metadata": {
            "needs_background": "light"
          }
        },
        {
          "output_type": "stream",
          "name": "stdout",
          "text": [
            "GroundTruth:  surprise happy angry sad   neutral fear  happy fear  sad   happy sad   angry happy surprise angry fear  fear  happy happy sad   sad   sad   fear  neutral fear  sad   sad   sad   surprise neutral neutral surprise surprise angry sad   happy sad   fear  happy angry happy angry neutral fear  fear  surprise fear  happy fear  sad   happy sad   happy happy sad   surprise happy fear  angry happy surprise neutral neutral sad   sad   neutral neutral neutral surprise fear  angry surprise neutral neutral happy happy neutral angry fear  angry sad   surprise angry fear  angry surprise neutral happy happy happy fear  disgust fear  neutral angry happy sad   fear  neutral angry\n"
          ]
        }
      ],
      "id": "jWAPVO_-iRnz"
    },
    {
      "cell_type": "code",
      "source": [
        "# net = Net()\n",
        "net=LeNet5_convnet()\n",
        "net.load_state_dict(torch.load(PATH))"
      ],
      "metadata": {
        "colab": {
          "base_uri": "https://localhost:8080/"
        },
        "id": "3r-_cir9iWMz",
        "outputId": "3acbf151-1e1c-4380-96e2-53177a0b660b"
      },
      "execution_count": null,
      "outputs": [
        {
          "output_type": "execute_result",
          "data": {
            "text/plain": [
              "<All keys matched successfully>"
            ]
          },
          "metadata": {},
          "execution_count": 80
        }
      ],
      "id": "3r-_cir9iWMz"
    },
    {
      "cell_type": "code",
      "source": [
        "outputs = net(images)\n",
        "\n",
        "_, predicted = torch.max(outputs, 1)\n",
        "\n",
        "print('Predicted: ', ' '.join(f'{classes[predicted[j]]:5s}'\n",
        "                              for j in range(100)))"
      ],
      "metadata": {
        "colab": {
          "base_uri": "https://localhost:8080/"
        },
        "id": "qSTylCgxihZw",
        "outputId": "cbb3454c-f0e8-4d0f-f441-481caf5bf94c"
      },
      "execution_count": null,
      "outputs": [
        {
          "output_type": "stream",
          "name": "stdout",
          "text": [
            "Predicted:  surprise happy sad   sad   sad   neutral happy sad   neutral happy neutral sad   happy neutral happy surprise sad   happy sad   happy angry sad   sad   neutral happy happy happy happy surprise neutral neutral surprise surprise surprise neutral happy neutral fear  happy happy happy sad   surprise happy sad   surprise fear  happy happy surprise happy sad   happy happy sad   surprise happy sad   happy happy neutral sad   neutral neutral neutral neutral sad   sad   angry sad   surprise happy sad   neutral happy happy neutral happy angry happy surprise surprise sad   sad   angry surprise neutral sad   happy happy sad   angry happy sad   neutral happy sad   surprise happy angry\n"
          ]
        }
      ],
      "id": "qSTylCgxihZw"
    },
    {
      "cell_type": "markdown",
      "source": [
        "**Overall Accuracy with 50 epochs** "
      ],
      "metadata": {
        "id": "0wRh6SnLYwho"
      },
      "id": "0wRh6SnLYwho"
    },
    {
      "cell_type": "code",
      "source": [
        "correct = 0\n",
        "total = 0\n",
        "# since we're not training, we don't need to calculate the gradients for our outputs\n",
        "with torch.no_grad():\n",
        "    for data in test:\n",
        "        images, labels = data\n",
        "        # images, labels = data[0].to(device), data[1].to(device)\n",
        "        # calculate outputs by running images through the network\n",
        "        outputs = net(images)\n",
        "        # the class with the highest energy is what we choose as prediction\n",
        "        _, predicted = torch.max(outputs.data, 1)\n",
        "        total += labels.size(0)\n",
        "        correct += (predicted == labels).sum().item()\n",
        "\n",
        "print(f'Accuracy of the network on the 10000 test images: {100 * correct // total} %')"
      ],
      "metadata": {
        "colab": {
          "base_uri": "https://localhost:8080/"
        },
        "id": "PgfXqfFRimBP",
        "outputId": "8bb8c274-b36f-496f-b82f-8e8b93c79fe2"
      },
      "execution_count": null,
      "outputs": [
        {
          "output_type": "stream",
          "name": "stdout",
          "text": [
            "Accuracy of the network on the 10000 test images: 48 %\n"
          ]
        }
      ],
      "id": "PgfXqfFRimBP"
    },
    {
      "cell_type": "markdown",
      "source": [
        "**Classwise Accuracy** "
      ],
      "metadata": {
        "id": "TqzdhlCMY6hi"
      },
      "id": "TqzdhlCMY6hi"
    },
    {
      "cell_type": "code",
      "source": [
        "correct_pred = {classname: 0 for classname in classes}\n",
        "total_pred = {classname: 0 for classname in classes}\n",
        "\n",
        "# again no gradients needed\n",
        "with torch.no_grad():\n",
        "    for data in test:\n",
        "        images, labels = data\n",
        "        outputs = net(images)\n",
        "        _, predictions = torch.max(outputs, 1)\n",
        "        # collect the correct predictions for each class\n",
        "        for label, prediction in zip(labels, predictions):\n",
        "            if label == prediction:\n",
        "                correct_pred[classes[label]] += 1\n",
        "            total_pred[classes[label]] += 1\n",
        "\n",
        "\n",
        "# print accuracy for each class\n",
        "for classname, correct_count in correct_pred.items():\n",
        "    accuracy = 100 * float(correct_count) / total_pred[classname]\n",
        "    print(f'Accuracy for class: {classname:5s} is {accuracy:.1f} %')"
      ],
      "metadata": {
        "colab": {
          "base_uri": "https://localhost:8080/"
        },
        "id": "Wk7N2iOai0i-",
        "outputId": "4f0e9f80-f855-428f-cf39-656fb4c0304d"
      },
      "execution_count": null,
      "outputs": [
        {
          "output_type": "stream",
          "name": "stdout",
          "text": [
            "Accuracy for class: angry is 30.1 %\n",
            "Accuracy for class: disgust is 13.5 %\n",
            "Accuracy for class: fear  is 15.0 %\n",
            "Accuracy for class: happy is 72.8 %\n",
            "Accuracy for class: neutral is 58.3 %\n",
            "Accuracy for class: sad   is 42.7 %\n",
            "Accuracy for class: surprise is 60.3 %\n"
          ]
        }
      ],
      "id": "Wk7N2iOai0i-"
    }
  ],
  "metadata": {
    "kernelspec": {
      "display_name": "Python 3 (ipykernel)",
      "language": "python",
      "name": "python3"
    },
    "language_info": {
      "codemirror_mode": {
        "name": "ipython",
        "version": 3
      },
      "file_extension": ".py",
      "mimetype": "text/x-python",
      "name": "python",
      "nbconvert_exporter": "python",
      "pygments_lexer": "ipython3",
      "version": "3.9.7"
    },
    "colab": {
      "name": "Facial_Emotion_Classification_Task.ipynb",
      "provenance": [],
      "collapsed_sections": [],
      "include_colab_link": true
    },
    "accelerator": "GPU"
  },
  "nbformat": 4,
  "nbformat_minor": 5
}